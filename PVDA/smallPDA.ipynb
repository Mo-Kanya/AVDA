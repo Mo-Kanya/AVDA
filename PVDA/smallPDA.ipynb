{
 "cells": [
  {
   "cell_type": "code",
   "execution_count": 61,
   "metadata": {},
   "outputs": [],
   "source": [
    "import time\n",
    "import numpy as np\n",
    "import torch\n",
    "from torchvision import datasets\n",
    "import torchvision.transforms as transforms\n",
    "from torch.utils.data import DataLoader"
   ]
  },
  {
   "cell_type": "code",
   "execution_count": 62,
   "metadata": {},
   "outputs": [],
   "source": [
    "from FADAnet.FADAloader import *\n",
    "from FADAnet.FADAmodule import *"
   ]
  },
  {
   "cell_type": "code",
   "execution_count": 63,
   "metadata": {},
   "outputs": [],
   "source": [
    "n_epoch = 100\n",
    "batch_size = 1024\n",
    "lr = 0.001\n",
    "n_support = 1\n",
    "\n",
    "device = 'cuda:0' if torch.cuda.is_available() else 'cpu'\n",
    "np.random.seed(717)\n",
    "torch.manual_seed(717)\n",
    "torch.cuda.manual_seed(717)"
   ]
  },
  {
   "cell_type": "code",
   "execution_count": 64,
   "metadata": {},
   "outputs": [],
   "source": [
    "train_dataloader=mnist_dataloader(batch_size=batch_size,train=True)\n",
    "test_dataloader=mnist_dataloader(batch_size=batch_size,train=False)\n",
    "\n",
    "classifier=Classifier()\n",
    "encoder=Encoder()\n",
    "\n",
    "classifier.to(device)\n",
    "encoder.to(device)\n",
    "loss_fn=torch.nn.CrossEntropyLoss()\n",
    "optimizer=torch.optim.Adam(list(encoder.parameters())+list(classifier.parameters()))"
   ]
  },
  {
   "cell_type": "code",
   "execution_count": null,
   "metadata": {},
   "outputs": [],
   "source": [
    "# for epoch in tqdm(range(n_epoch)):\n",
    "for epoch in range(n_epoch):\n",
    "    for data,labels in train_dataloader:\n",
    "        data=data.to(device)\n",
    "        labels=labels.to(device)\n",
    "\n",
    "        optimizer.zero_grad()\n",
    "\n",
    "        y_pred=classifier(encoder(data))\n",
    "\n",
    "        loss=loss_fn(y_pred,labels)\n",
    "        loss.backward()\n",
    "\n",
    "        optimizer.step()\n",
    "    if epoch%10 == 9:\n",
    "        acc=0\n",
    "        for data,labels in test_dataloader:\n",
    "            data=data.to(device)\n",
    "            labels=labels.to(device)\n",
    "            y_test_pred=classifier(encoder(data))\n",
    "            acc+=(torch.max(y_test_pred,1)[1]==labels).float().mean().item()\n",
    "\n",
    "        accuracy=round(acc / float(len(test_dataloader)), 3)\n",
    "        print(\"step1----Epoch %d/%d  accuracy: %.3f \"%(epoch+1,n_epoch,accuracy))"
   ]
  },
  {
   "cell_type": "code",
   "execution_count": null,
   "metadata": {},
   "outputs": [],
   "source": []
  },
  {
   "cell_type": "code",
   "execution_count": 93,
   "metadata": {},
   "outputs": [],
   "source": [
    "mapset = []\n",
    "labelset = []\n",
    "for data, labels in train_dataloader:\n",
    "    data=data.to(device)\n",
    "    fmap = encoder(data).cpu().detach().numpy()\n",
    "    labels=labels.to(device).cpu().detach().numpy()\n",
    "    mapset.append(fmap)\n",
    "    labelset.append(labels)"
   ]
  },
  {
   "cell_type": "code",
   "execution_count": 108,
   "metadata": {},
   "outputs": [],
   "source": [
    "smap = np.vstack(mapset[:-1])\n",
    "slabel = np.hstack(labelset[:-1])"
   ]
  },
  {
   "cell_type": "code",
   "execution_count": 164,
   "metadata": {},
   "outputs": [
    {
     "name": "stdout",
     "output_type": "stream",
     "text": [
      "[20.945534, 12.921637, 32.431023, 24.667782, 22.536781, 24.352346, 20.08793, 25.857838, 24.888908, 23.244738]\n",
      "0.0,\n",
      "68.765076,0.0,\n",
      "78.48123,75.871666,0.0,\n",
      "101.824554,82.75783,84.97293,0.0,\n",
      "86.03646,62.545166,101.36127,113.2429,0.0,\n",
      "81.95166,78.888626,113.66938,72.81477,94.375854,0.0,\n",
      "64.88343,74.306984,98.519745,108.76796,78.491684,69.95229,0.0,\n",
      "85.633644,69.39298,78.76395,73.16075,93.74609,96.8604,119.15769,0.0,\n",
      "77.69174,67.552124,80.01183,72.787476,83.872406,68.49606,67.304214,90.76718,0.0,\n",
      "80.36195,74.221535,98.247536,79.31981,65.0958,74.38497,94.88097,66.936134,69.27747,0.0,\n"
     ]
    }
   ],
   "source": [
    "means = []\n",
    "dmeans = []\n",
    "\n",
    "for num in range(10):\n",
    "    subset1 = smap[slabel == num]\n",
    "    means1 = np.mean(subset1, axis=0)\n",
    "    tmp = subset1 - means1\n",
    "    dists1 = np.linalg.norm(tmp, axis=1)\n",
    "    means.append(means1)\n",
    "    dmeans.append(np.mean(dists1))\n",
    "\n",
    "print(dmeans)\n",
    "for i in range(10):\n",
    "    for j in range(i+1):\n",
    "        print(np.linalg.norm(means[i] - means[j]), end=',')\n",
    "    print()\n"
   ]
  },
  {
   "cell_type": "code",
   "execution_count": null,
   "metadata": {},
   "outputs": [],
   "source": []
  }
 ],
 "metadata": {
  "kernelspec": {
   "display_name": "myconda",
   "language": "python",
   "name": "myconda"
  },
  "language_info": {
   "codemirror_mode": {
    "name": "ipython",
    "version": 3
   },
   "file_extension": ".py",
   "mimetype": "text/x-python",
   "name": "python",
   "nbconvert_exporter": "python",
   "pygments_lexer": "ipython3",
   "version": "3.6.10"
  }
 },
 "nbformat": 4,
 "nbformat_minor": 4
}
